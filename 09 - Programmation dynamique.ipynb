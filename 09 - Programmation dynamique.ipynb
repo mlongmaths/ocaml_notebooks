{
 "cells": [
  {
   "cell_type": "markdown",
   "id": "e2defd8e",
   "metadata": {
    "slideshow": {
     "slide_type": "slide"
    }
   },
   "source": [
    "# Programmation dynamique\n",
    "\n",
    "La *programmation dynamique* est une méthode algorithmique utilisée pour résoudre certains problèmes d'*optimisation*, dans lesquels on cherche à minimiser ou maximiser une certaine fonction sur un univers $\\mathcal{U}$."
   ]
  },
  {
   "cell_type": "markdown",
   "id": "a877dfed",
   "metadata": {
    "slideshow": {
     "slide_type": "slide"
    }
   },
   "source": [
    "## Chemin de poids minimal dans une matrice\n",
    "Etant donnée une matrice $M$ d'entiers de taille $n \\times p$, on cherche à déterminer le chemin de somme minimale allant du coin supérieur gauche au coin inférieur droit, en se déplaçant uniquement vers le bas ou vers la droite."
   ]
  },
  {
   "cell_type": "markdown",
   "id": "e91d84b7",
   "metadata": {
    "slideshow": {
     "slide_type": "subslide"
    }
   },
   "source": [
    "Par exemple, sur la matrice $5\\times 5$ suivante, le chemin de somme minimale\n",
    "est représenté en gras. Sa somme vaut $2427$:\n",
    "\\begin{equation*}\n",
    "  \\label{eq:matrice81ex}\n",
    "\\begin{pmatrix}\n",
    "\\textbf{131} & 673 & 234 & 103 & 18\\\\\n",
    "\\textbf{201} & \\textbf{96} & \\textbf{342} & 965 & 150\\\\\n",
    "630 & 803 & \\textbf{746} & \\textbf{422} & 111\\\\\n",
    "537 & 699 & 497 & \\textbf{121} & 956\\\\\n",
    "805 & 732 & 524 & \\textbf{37} & \\textbf{331}\n",
    "\\end{pmatrix}\n",
    "\\end{equation*}\n",
    "\n",
    "On cherche à écrire une fonction calculant la somme d'un chemin\n",
    "minimal. On représentera en OCaml une matrice sous la forme d'un tableau de tableaux."
   ]
  },
  {
   "cell_type": "markdown",
   "id": "536eab9c",
   "metadata": {
    "slideshow": {
     "slide_type": "subslide"
    }
   },
   "source": [
    "### Relations de récurrence\n",
    "Soit $M = (m_{ij})_{(i,j) \\in ⟦ 0, n ⟦ \\times ⟦0, p ⟦}\\in \\mathcal{M}_{n,p}(\\mathbb{R})$.\n",
    "\n",
    "Pour tout couple d'entiers $(i,j)$ tel $ 0 \\leqslant i < n$ et $0 \\leqslant j < p$, notons $s_{min}(i,j)$ la somme minimale d'un chemin allant de la case $(0, 0)$ à la case $(i,j)$ en se déplaçant uniquement vers la droite ou vers le bas.\n",
    "\n",
    "Si un chemin de $(0, 0)$ à $(i, j)$ est de somme minimale, alors tout sous-chemin de ce chemin est aussi de somme minimale."
   ]
  },
  {
   "cell_type": "markdown",
   "id": "6a8ecb0c",
   "metadata": {
    "slideshow": {
     "slide_type": "subslide"
    }
   },
   "source": [
    "On peut affirmer que\n",
    "\n",
    "* L'unique chemin entre $(0, 0)$ et $(0,0)$ ne comporte que la case $(0,0)$, donc \n",
    "$$s_{min}(0,0) = m_{00}$$\n",
    "* Pour tout $j \\in ⟦ 1, p ⟦$, l'avant dernière case du chemin de somme minimale de $(0,0)$ à $(0, j)$ est $(0, j-1)$, car les déplacements ne peuvent pas se faire vers la gauche, donc\n",
    "$$s_{min}(0, j) = s_{min}(0, j-1) + m_{0j}$$"
   ]
  },
  {
   "cell_type": "markdown",
   "id": "605bd725",
   "metadata": {
    "slideshow": {
     "slide_type": "subslide"
    }
   },
   "source": [
    "* Pour tout $i \\in ⟦ 1, n ⟦$, l'avant dernière case du chemin de somme minimale de $(0,0)$ à $(i, 0)$ est $(i-1, 0)$, car les déplacements ne peuvent pas se faire vers le haut, donc\n",
    "$$s_{min}(i,0) = s_{min}(i-1,0) + m_{i0}$$\n",
    "* Pour $i \\in ⟦ 1, n ⟦$ et  $j \\in ⟦ 1, p ⟦$,  l'avant dernière case du chemin de somme minimale de $(0,0)$ à $(i, 0)$ est soit $(i-1, j)$, soit $(i, j-1)$, et ce chemin privé de la case $(i,j)$ est aussi de somme minimale, donc\n",
    "$$s_{min}(i, j) = \\min \\{ s_{min} (i-1, j), s_{min}(i, j-1) \\} + m_{ij}$$"
   ]
  },
  {
   "cell_type": "markdown",
   "id": "8d4c7be2",
   "metadata": {
    "slideshow": {
     "slide_type": "slide"
    }
   },
   "source": [
    "### Algorithme naïf et complexité"
   ]
  },
  {
   "cell_type": "code",
   "execution_count": 2,
   "id": "5a3b7783",
   "metadata": {
    "slideshow": {
     "slide_type": "fragment"
    }
   },
   "outputs": [
    {
     "data": {
      "text/plain": [
       "val smin : int array array -> int -> int -> int = <fun>\n"
      ]
     },
     "execution_count": 2,
     "metadata": {},
     "output_type": "execute_result"
    }
   ],
   "source": [
    "let rec smin m i j =\n",
    "  match (i, j) with\n",
    "  | (0, 0) -> m.(0).(0)\n",
    "  | (0, _) -> smin m 0 (j-1) + m.(0).(j)\n",
    "  | (_, 0) -> smin m (i-1) 0 + m.(i).(0)\n",
    "  | _ -> min (smin m (i-1) j) (smin m i (j-1)) + m.(i).(j)\n",
    ";;"
   ]
  },
  {
   "cell_type": "markdown",
   "id": "8f7bf823",
   "metadata": {
    "slideshow": {
     "slide_type": "subslide"
    }
   },
   "source": [
    "Pour construire un exemple avec lequel tester notre fonction, on peut utiliser la fonction `Array.make_matrix` :"
   ]
  },
  {
   "cell_type": "code",
   "execution_count": null,
   "id": "b59f429d",
   "metadata": {
    "slideshow": {
     "slide_type": "fragment"
    }
   },
   "outputs": [],
   "source": [
    "let n, p = 15, 15;;\n",
    "let m = Array.make_matrix n p 0;;\n",
    "for i = 0 to n-1 do\n",
    "  for j = 0 to p-1 do\n",
    "    m.(i).(j) <- (i+1)*(2*j+3)\n",
    "  done\n",
    "done;;"
   ]
  },
  {
   "cell_type": "code",
   "execution_count": null,
   "id": "0a2e46aa",
   "metadata": {},
   "outputs": [],
   "source": [
    "m"
   ]
  },
  {
   "cell_type": "markdown",
   "id": "d37aa1d9",
   "metadata": {
    "slideshow": {
     "slide_type": "subslide"
    }
   },
   "source": [
    "On appelle ensuite la fonction `smin`, et on patiente un peu :"
   ]
  },
  {
   "cell_type": "code",
   "execution_count": null,
   "id": "cbeecf11",
   "metadata": {
    "slideshow": {
     "slide_type": "fragment"
    }
   },
   "outputs": [],
   "source": [
    "smin m 2 4;;"
   ]
  },
  {
   "cell_type": "markdown",
   "id": "d6c0e3a9",
   "metadata": {
    "slideshow": {
     "slide_type": "subslide"
    }
   },
   "source": [
    "Evaluons la complexité de la fonction `smin` : à chaque appel, on effectue d'éventuels appels récursifs auxquels ne s'ajoutent que des opérations en temps constants, donc le temps de calcul de $s_{min}(i,j)$ est un $O(C(i,j))$ où $C(i,j)$ est le nombre total d'appels à `smin` effectués lors de l'évaluation de `smin m i j`, et qui vérifie donc pour $i$ et $j$ non nuls :"
   ]
  },
  {
   "cell_type": "markdown",
   "id": "96bb6f06",
   "metadata": {
    "slideshow": {
     "slide_type": "fragment"
    }
   },
   "source": [
    "\\begin{align*}\n",
    "C(0, 0) &= 1 \\\\\n",
    "C(i, 0) &= 1 + C(i-1, 0) \\\\\n",
    "C(0, j) &= 1 + C(0, j-1) \\\\\n",
    "C(i,j)  &= 1 + C(i-1,j) + C(i, j-1)\n",
    "\\end{align*}"
   ]
  },
  {
   "cell_type": "markdown",
   "id": "b4c7cb29",
   "metadata": {
    "slideshow": {
     "slide_type": "subslide"
    }
   },
   "source": [
    "On montre alors que pour tout $(a, b) \\in \\mathbb{N}^2$, $C(a,b) = \\binom{a+b+2}{b+1}-1$.\n",
    "\n",
    "Notamment, en utilisant la formule de Stirling, on obtient l'équivalent $$C(n,n) \\underset{n \\to + \\infty}{\\sim} \\frac{4^{n+1}}{\\sqrt{\\pi n}}$$\n",
    "\n",
    "Par exemple, pour $n = 30$, $\\frac{4^{n+1}}{\\sqrt{\\pi n}} \\approx 4,75.10^{18}$, et $4,75.10^{18}$ ns $\\approx 15$ ans. \n",
    "\n",
    "*($\\pi$ secondes $\\approx$ 1 nanosiècle)*"
   ]
  },
  {
   "cell_type": "markdown",
   "id": "57e8940d",
   "metadata": {
    "slideshow": {
     "slide_type": "slide"
    }
   },
   "source": [
    "### Mémoïsation\n",
    "L'augmentation très rapide du temps de calcul de la fonction `smin` peut s'expliquer par le fait qu'elle calcule de nombreuses fois la même quantité : par exemple, pour $i$ et $j$ non nuls, le calcul de $s_{min}(i,j)$ conduit à calculer $s_{min}(i-1,j)$ et $s_{min}(i,j-1)$, qui conduisent chacun à calculer $s_{min}(i-1,j-1)$.\n",
    "\n",
    "Par conséquent, le calcul de $s_{min}(n,n)$ nécessite (entre autres) deux fois le calcul de $s_{min}(n-1,n-1)$, qui nécessite lui-même deux fois le calcul de $s_{min}(n-2,n-2)$, etc."
   ]
  },
  {
   "cell_type": "markdown",
   "id": "2a1ce5c8",
   "metadata": {
    "slideshow": {
     "slide_type": "subslide"
    }
   },
   "source": [
    "Pour éviter de recalculer plusieurs fois la même quantité, la technique de *mémoïsation* consiste à stocker les valeurs $s_{min}$ déjà calculées de dans une table ; on dit qu'on *tabule* les valeurs de la fonction $s_{min}$.\n",
    "\n",
    "Pour cela, on ajoute à la fonction récursive `smin` un argument $t$ correspondant à une table contenant les valeurs déjà calculées, ce qui permettra, avant tout calcul, de regarder si le résultat n'est pas déjà présent dans $t$. Cette table $t$ sera remplie par effet de bord.\n",
    "\n",
    "Ici, $t$ sera une matrice de même taille que $M$, et telle que $t.(i).(j)$ contient soit la valeur $-1$, soit $s_{min}(i,j)$."
   ]
  },
  {
   "cell_type": "code",
   "execution_count": null,
   "id": "e19d1975",
   "metadata": {
    "slideshow": {
     "slide_type": "subslide"
    }
   },
   "outputs": [],
   "source": [
    "let rec smin t m i j =\n",
    "  if t.(i).(j) >= 0\n",
    "  then t.(i).(j)\n",
    "  else\n",
    "    let res = match (i,j) with\n",
    "      | (0, 0) -> m.(0).(0)\n",
    "      | (0, _) -> smin t m 0 (j-1) + m.(0).(j)\n",
    "      | (_, 0) -> smin t m (i-1) 0 + m.(i).(0)\n",
    "      | _ -> min (smin t m (i-1) j) (smin t m i (j-1)) + m.(i).(j)\n",
    "    in\n",
    "    t.(i).(j) <- res;\n",
    "    res\n",
    ";;\n",
    "let t = Array.make_matrix n p (-1);;"
   ]
  },
  {
   "cell_type": "code",
   "execution_count": null,
   "id": "c446167a",
   "metadata": {
    "slideshow": {
     "slide_type": "subslide"
    }
   },
   "outputs": [],
   "source": [
    "smin t m (n-1) (p-1);;\n",
    "\n",
    "t"
   ]
  },
  {
   "cell_type": "markdown",
   "id": "e801949d",
   "metadata": {
    "slideshow": {
     "slide_type": "subslide"
    }
   },
   "source": [
    "### Calcul itératif\n",
    "Plutôt que de construire $t$ par effet de bord, on peut remarquer de remplir $t$ itérativement, en calculant les $s_{min}$ de proche en proche en itérant par exemple sur $i$ puis sur $j$."
   ]
  },
  {
   "cell_type": "code",
   "execution_count": null,
   "id": "6bd2ceba",
   "metadata": {
    "slideshow": {
     "slide_type": "subslide"
    }
   },
   "outputs": [],
   "source": [
    "let smin_it m =\n",
    "  let n = Array.length m in\n",
    "  let p= Array.length m.(0) in\n",
    "  let t = Array.make_matrix n p (-1) in\n",
    "  for i = 0 to n-1 do\n",
    "    for j = 0 to p-1 do\n",
    "      let res =\n",
    "        match (i,j) with\n",
    "        | (0,0) -> m.(0).(0)\n",
    "        | (0, _) -> t.(0).(j-1) + m.(0).(j)\n",
    "        | (_, 0) -> t.(i-1).(0) + m.(i).(0)\n",
    "        | _ -> min t.(i-1).(j) t.(i).(j-1) + m.(i).(j)\n",
    "      in\n",
    "      t.(i).(j) <- res\n",
    "    done\n",
    "  done;\n",
    "  t\n",
    ";;"
   ]
  },
  {
   "cell_type": "markdown",
   "id": "28f8559b",
   "metadata": {
    "slideshow": {
     "slide_type": "subslide"
    }
   },
   "source": [
    "### Complexité\n",
    "#### Exercice 1\n",
    "Evaluer la complexité temporelle du calcul de $s_{min}(i,j)$ avec ces deux algorithmes.\n",
    "\n",
    "#### Exercice 2\n",
    "Evaluer la complexité spatiale du calcul de $s_{min}(i,j)$ avec ces deux algorithmes."
   ]
  },
  {
   "cell_type": "markdown",
   "id": "df542a36",
   "metadata": {
    "slideshow": {
     "slide_type": "subslide"
    }
   },
   "source": [
    "Il est en fait possible de réduire la complexité spatiale en remarquant qu'il est uniquement nécessaire de calculer la dernière ligne de $t$, et que chaque ligne peut se déduire de la ligne précédente.\n",
    "\n",
    "On peut donc calculer les lignes de proche en proche, en conservant au plus deux lignes en mémoire simultanément.\n",
    "\n",
    "Ici, comme $t.(i-1).(j)$ n'est pas utilisé pour calculer $t.(i).(j')$ pour $j'>j$, il est même possible de ne garder que deux morceaux de lignes à un instant donné."
   ]
  },
  {
   "cell_type": "code",
   "execution_count": null,
   "id": "9bfdedd6",
   "metadata": {
    "slideshow": {
     "slide_type": "subslide"
    }
   },
   "outputs": [],
   "source": [
    "let smin_it2 m =\n",
    "  let n = Array.length m in\n",
    "  let p= Array.length m.(0) in\n",
    "  let t = Array.make p (-1) in\n",
    "  for i = 0 to n-1 do\n",
    "    for j = 0 to p-1 do\n",
    "      let res =\n",
    "        match (i,j) with\n",
    "        | (0,0) -> m.(0).(0)\n",
    "        | (0, _) -> t.(j-1) + m.(0).(j)\n",
    "        | (_, 0) -> t.(0) + m.(i).(0)\n",
    "        | _ -> min t.(j) t.(j-1) + m.(i).(j)\n",
    "      in\n",
    "      t.(j) <- res\n",
    "    done\n",
    "  done;\n",
    "  t.(p-1)\n",
    ";;"
   ]
  },
  {
   "cell_type": "markdown",
   "id": "6a35a720",
   "metadata": {
    "slideshow": {
     "slide_type": "subslide"
    }
   },
   "source": [
    "Les invariants de boucle suivants sont en effet vérifiés :\n",
    "\n",
    "* À la fin de chaque itération de la boucle d'indice $j$, $t$ contient $s_{min}(i, 0)$, ..., $s_{min}(i, j)$ puis $s_{min}(i-1, j+1)$, ..., $s_{min}(i-1,p-1)$ ;\n",
    "* À la fin de chaque itération de la boucle d'indice $i$, $t$ contient $s_{min}(i, 0)$, ..., $s_{min}(i, p-1)$ ;\n",
    "\n",
    "avec la convention : $s_{min}(-1,j)= -1$."
   ]
  },
  {
   "cell_type": "markdown",
   "id": "5084b68c",
   "metadata": {
    "slideshow": {
     "slide_type": "slide"
    }
   },
   "source": [
    "### Obtention d'un chemin minimal\n",
    "#### Exercice 3\n",
    "Que deviendrait la complexité de `smin_it2` si on stockait les chemins de sommes minimales sous forme de listes dans $t$ plutôt que leurs sommes ?"
   ]
  },
  {
   "cell_type": "markdown",
   "id": "60e03830",
   "metadata": {
    "slideshow": {
     "slide_type": "subslide"
    }
   },
   "source": [
    "On peut créer de la redondance et stocker à la fois la somme minimale $s_{min}(i,j)$ et un chemin correspondant. Pour limiter la complexité spatiale *(quelle serait-elle ?)*, il n'est pas nécessaire de stocker l'intégralité de chaque chemin : on peut se contenter de garder en mémoire la case depuis laquelle on est arrivé sur la case $(i, j)$, ce qui permet ensuite de retrouver le chemin de somme minimale."
   ]
  },
  {
   "cell_type": "code",
   "execution_count": null,
   "id": "88e709d8",
   "metadata": {
    "slideshow": {
     "slide_type": "subslide"
    }
   },
   "outputs": [],
   "source": [
    "let smin_it3 m =\n",
    "  let n = Array.length m in\n",
    "  let p= Array.length m.(0) in\n",
    "  (* tableau des sommes minimales *)\n",
    "  let t = Array.make_matrix n p (-1) in\n",
    "  (* tableau des provenances *)\n",
    "  let pr = Array.make_matrix n p (-1, -1) in\n",
    "  for i = 0 to n-1 do\n",
    "    for j = 0 to p-1 do\n",
    "      let res, prec =\n",
    "        match (i,j) with\n",
    "        | (0,0) -> m.(0).(0), (-1, -1)\n",
    "        | (0, _) -> t.(0).(j-1) + m.(0).(j), (0,j-1)\n",
    "        | (_, 0) -> t.(i-1).(0) + m.(i).(0), (i-1,0)\n",
    "        | _ ->\n",
    "           if t.(i-1).(j) < t.(i).(j-1)\n",
    "           then t.(i-1).(j) + m.(i).(j), (i-1, j)\n",
    "           else t.(i).(j-1), (i, j-1)\n",
    "      in\n",
    "      t.(i).(j) <- res;\n",
    "      pr.(i).(j) <- prec\n",
    "    done\n",
    "  done;\n",
    "  let rec chemin i j acc =\n",
    "    match pr.(i).(j) with\n",
    "    | (-1, -1) -> acc\n",
    "    | (k, l) -> chemin k l ((i,j)::acc)\n",
    "  in\n",
    "  chemin (n-1) (p-1) []\n",
    ";;"
   ]
  },
  {
   "cell_type": "markdown",
   "id": "a91ef14e",
   "metadata": {
    "slideshow": {
     "slide_type": "subslide"
    }
   },
   "source": [
    "En outre, dans le cas où $i$ et $j$ sont non nuls, il est possible de déterminer la case précédente du chemin à partir de $s_{min}(i-1,j)$ et $s_{min}(i, j-1)$.\n",
    "\n",
    "On peut donc se contenter de construire $t$, puis utiliser $t$ pour déterminer un chemin de somme minimale."
   ]
  },
  {
   "cell_type": "code",
   "execution_count": null,
   "id": "73bb8865",
   "metadata": {
    "slideshow": {
     "slide_type": "subslide"
    }
   },
   "outputs": [],
   "source": [
    "let smin_it4 m =\n",
    "  let n = Array.length m in\n",
    "  let p= Array.length m.(0) in\n",
    "  (* tableau des sommes minimales *)\n",
    "  let t = Array.make_matrix n p (-1) in\n",
    "  for i = 0 to n-1 do\n",
    "    for j = 0 to p-1 do\n",
    "      let res =\n",
    "        match (i,j) with\n",
    "        | (0,0) -> m.(0).(0)\n",
    "        | (0, _) -> t.(0).(j-1) + m.(0).(j)\n",
    "        | (_, 0) -> t.(i-1).(0) + m.(i).(0)\n",
    "        | _ ->\n",
    "           if t.(i-1).(j) < t.(i).(j-1)\n",
    "           then t.(i-1).(j) + m.(i).(j)\n",
    "           else t.(i).(j-1)\n",
    "      in\n",
    "      t.(i).(j) <- res\n",
    "    done\n",
    "  done;\n",
    "  let rec chemin i j ch =\n",
    "    let new_ch = (i,j)::ch in\n",
    "    match (i, j)  with\n",
    "    | (0, 0)-> new_ch\n",
    "    | (0, _) -> chemin 0 (j-1) new_ch\n",
    "    | (_, 0) -> chemin (i-1) 0  new_ch\n",
    "    | _ ->\n",
    "       if t.(i-1).(j) + m.(i).(j) = t.(i).(j)\n",
    "       then chemin (i-1) j new_ch\n",
    "       else chemin i (j-1) new_ch\n",
    "  in\n",
    "  chemin (n-1) (p-1) []\n",
    ";;"
   ]
  },
  {
   "cell_type": "markdown",
   "id": "bc4f561b",
   "metadata": {
    "slideshow": {
     "slide_type": "slide"
    }
   },
   "source": [
    "## Principes de la programmation dynamique\n",
    "La programmation dynamique, comme la méthode *diviser pour régner*, résout des problèmes en combinant des solutions de sous-problèmes.\n",
    "\n",
    "Néanmoins, les sous-problèmes ne sont plus traités de manière indépendante : on mémorise les solutions des problèmes déjà résolus pour éviter d'avoir à les calculer plusieurs fois.\n",
    "\n",
    "La programmation dynamique est surtout utilisée pour des problèmes d'optimisation : étant donnée une fonction $f: \\mathcal{U} \\to \\mathbb{Z}$ où l'univers $\\mathcal{U}$ est fini mais grand, on souhaite déterminer $\\max_{y \\in \\mathcal{U}} f(y)$ ou encore $x \\in \\mathcal{U}$ tel que $f(x) = \\max_{y \\in \\mathcal{U}} f(y)$."
   ]
  },
  {
   "cell_type": "markdown",
   "id": "9c2b19db",
   "metadata": {
    "slideshow": {
     "slide_type": "subslide"
    }
   },
   "source": [
    "On procède généralement en quatre étapes :\n",
    "\n",
    "* Identifier une sous-structure optimale ; il s'agit de voir si la connaissance de $x \\in \\mathcal{U}$ tel que $f(x) = \\max_{y \\in \\mathcal{U}} f(y)$ permet de déduire des solutions à des sous-problèmes consistant à trouver $x_i \\in \\mathcal{U}_i$ tels que $f(x_i) = \\max_{y \\in \\mathcal{U}_i} f_i(y)$. Les problèmes associés aux $(f_i,\\mathcal{U}_i)$ doivent être plus simples à résoudre que le problème initial. \n",
    "* Ecrire la valeur optimale en fonction de valeurs optimales de sous-problèmes.\n",
    "* Calculer la valeur d'une solution optimale en stockant les valeurs optimales de sous-problèmes, de manière ascendante (ou *bottom-up*).\n",
    "*  Eventuellement, ajouter des informations pour trouver une solution optimale ou la reconstruire."
   ]
  },
  {
   "cell_type": "markdown",
   "id": "bc89bc12",
   "metadata": {
    "slideshow": {
     "slide_type": "slide"
    }
   },
   "source": [
    "### Exercice : Problème du sac-à-dos\n",
    "Ce problème se pose de la manière suivantes : étant donnés $n$ objets de valeurs entières $v_1,\\dots,v_n$ et de poids respectifs entiers $w_1,\\dots,w_n$, comment remplir un sac-à-dos en maximisant la valeur emportée si ce dernier peut contenir au plus un poids $W$ ?\n",
    "\n",
    "Autrement dit, on cherche à maximiser $\\displaystyle \\sum_{i \\in I} v_i$ avec la contrainte $\\displaystyle \\sum_ {i \\in I} w_i \\leqslant W$, pour $I$ une partie de $⟦ 1, n ⟧$."
   ]
  },
  {
   "cell_type": "markdown",
   "id": "982c3ce9",
   "metadata": {
    "slideshow": {
     "slide_type": "subslide"
    }
   },
   "source": [
    "On introduit pour deux paramètres $w \\in ⟦ 0, W ⟧$ et $j \\in ⟦ 0, n ⟧$ le sous-problème dans lequel le sac-à-dos a une capacité de $w$ et les objets disponibles sur les objets $1$ à $j$. On note $K(w,j)$ la solution de ce sous-problème : c'est donc la valeur maximale qu'un sac-à-dos de capacité $w$ peut contenir en choisissant parmi les objets $1$ à $j$."
   ]
  },
  {
   "cell_type": "markdown",
   "id": "5601a1b8",
   "metadata": {
    "slideshow": {
     "slide_type": "subslide"
    }
   },
   "source": [
    "1. Donner pour tout $w \\in ⟦ 0, W ⟧$ la valeur de $K(w,0)$.\n",
    "><span style=\"color:darkcyan\"> $K(w,0)=0$ </span>\n",
    "1. Pour $j \\in ⟦ 1, n ⟧$ et $w \\in ⟦ 0, W ⟧$, exprimer $K(w, j)$ en fonction de valeurs $K(w',j-1)$ avec $w' \\leqslant w$.\n",
    "> <span style=\"color:darkcyan\"> Si $w_j > w$, $K(w,j) = K(w,j-1)$<br/>\n",
    "> Sinon, $K(w,j) = \\mathrm{max}\\lbrace K(w,j-1), v_j + K(w-w_j,j-1)\\rbrace$ </span>"
   ]
  },
  {
   "cell_type": "markdown",
   "id": "144d8630",
   "metadata": {
    "slideshow": {
     "slide_type": "subslide"
    }
   },
   "source": [
    "3. En déduire un algorithme de programmation dynamique calculant la valeur de $K(W,n)$. \n",
    "   Quelle est sa complexité ?"
   ]
  },
  {
   "cell_type": "code",
   "execution_count": null,
   "id": "c60554ab",
   "metadata": {},
   "outputs": [],
   "source": []
  },
  {
   "cell_type": "markdown",
   "id": "6a378ac1",
   "metadata": {
    "slideshow": {
     "slide_type": "subslide"
    }
   },
   "source": [
    "4. Modifier cet algorithme pour qu'il fournisse la liste des objets à choisir.\n",
    "5. Donner un algorithme calculant la valeur de $K(W,n)$ n'utilisant qu'une place mémoire en $O(W)$. Peut-on trouver la liste des objets à emporter ?"
   ]
  },
  {
   "cell_type": "markdown",
   "id": "fa9ce0ef",
   "metadata": {
    "slideshow": {
     "slide_type": "slide"
    }
   },
   "source": [
    "### Exercice : Distance d'édition\n",
    "On considère deux mots $x$ et $y$ fixés, de longueurs respectives $m$ et $n$, sur un même alphabet fini $\\Sigma$.\n",
    "\n",
    "On cherche à *aligner* ces deux mots, c'est-à-dire à trouver la plus petite suite d'opérations qui permettent de transformer un mot en l'autre. Les opérations disponibles sont l'insertion d'une lettre , la suppression d'une lettre ou la substitution d'une lettre par une autre.\n",
    "\n",
    "Par exemple, voici deux manières d'aligner les mots EXPONENTIEL et POLYNOMIAL\n",
    "$$\\begin{array}{llllllllllll}\n",
    "E&X&P&O&N&E&N&-&T&I&E&L\\\\\n",
    "-&-&P&O&L&Y&N&O&M&I&A&L\n",
    "\\end{array}$$\n",
    "$$\\begin{array}{llllllllllll}\n",
    "E&X&P&O&N&E&N&T&I&E&-&L\\\\\n",
    "P&O&L&Y&N&O&M&-&I&-&A&L\n",
    "\\end{array}$$\n",
    "\n",
    "Les tirets représentent l'insertion ou la suppression d'un caractère. On considère que chaque opération coûte $1$. On considère que lorsque deux lettres sont identiques, le coût de la vérification est nul. Ainsi, le coût des deux transformations précédentes sont respectivement $7$ et $9$.\n",
    "\n",
    "\n",
    "On appelle *distance d'édition* entre les deux mots $x$ et $y$ le coût minimal d'une suite d'opérations transformant $x$ en $y$."
   ]
  },
  {
   "cell_type": "markdown",
   "id": "bc3f232c",
   "metadata": {
    "slideshow": {
     "slide_type": "subslide"
    }
   },
   "source": [
    "On pourra vérifier que la complexité dans le pire des cas d'un algorithme naïf est exponentielle.\n",
    "\n",
    "On considère donc le sous-problème consistant à trouver la distance d'édition $E(i,j)$ entre un préfixe $x[1..i]$ de $x$ est un préfixe $y[1..j]$ de $y$.\n",
    "\n",
    "\n",
    "1. Construire un algorithme de programmation dynamique permettant de calculer la distance d'édition entre $x$ et $y$.\n",
    "2. Modifier cet algorithme pour afficher la suite des opérations à appliquer à $x$ pour obtenir $y$.\n",
    "3. Finalement, on veut économiser de la place mémoire. Trouver une manière de calculer $E(m, n)$ en utilisant une place mémoire en $O(\\min(m,n))$. Peut-on ensuite trouver la suite d'opérations à appliquer ?"
   ]
  },
  {
   "cell_type": "code",
   "execution_count": null,
   "id": "0f8a2b79",
   "metadata": {},
   "outputs": [],
   "source": []
  }
 ],
 "metadata": {
  "celltoolbar": "Slideshow",
  "kernelspec": {
   "display_name": "OCaml default",
   "language": "OCaml",
   "name": "ocaml-jupyter"
  },
  "language_info": {
   "codemirror_mode": "text/x-ocaml",
   "file_extension": ".ml",
   "mimetype": "text/x-ocaml",
   "name": "OCaml",
   "nbconverter_exporter": null,
   "pygments_lexer": "OCaml",
   "version": "4.11.1"
  },
  "toc": {
   "base_numbering": 1,
   "nav_menu": {},
   "number_sections": false,
   "sideBar": false,
   "skip_h1_title": false,
   "title_cell": "Table of Contents",
   "title_sidebar": "Contents",
   "toc_cell": false,
   "toc_position": {
    "height": "47.5px",
    "left": "1661.28px",
    "top": "26.8281px",
    "width": "159px"
   },
   "toc_section_display": false,
   "toc_window_display": true
  }
 },
 "nbformat": 4,
 "nbformat_minor": 5
}
