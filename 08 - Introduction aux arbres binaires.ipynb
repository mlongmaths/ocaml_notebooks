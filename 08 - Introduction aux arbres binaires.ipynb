{
 "cells": [
  {
   "cell_type": "markdown",
   "id": "bd5165c7",
   "metadata": {
    "slideshow": {
     "slide_type": "slide"
    }
   },
   "source": [
    "# Présentation et vocabulaire\n",
    "\n",
    "## Généralités\n",
    "Un arbre est la donnée d'un *graphe connexe acyclique non orienté* et d'un sommet $r$ de ce graphe appelé *racine* de l'arbre. Pour chaque sommet $s$ du graphe, il existe alors un et un seul chemin de $r$ à $s$.\n",
    "\n",
    "<img src=\"./arbres/arbre1.png\" width=400 height=400> </img>\n",
    "\n",
    "La racine induit une orientation implicite de l'arbre, du haut vers le bas.\n",
    "\n",
    "Dans l'abre précédent, le sommet $1$ est la *racine* de l'arbre."
   ]
  },
  {
   "cell_type": "markdown",
   "id": "b5e38e59",
   "metadata": {
    "slideshow": {
     "slide_type": "subslide"
    }
   },
   "source": [
    "\n",
    "Les sommets d'un arbre sont appelés des *nœuds*. Lorsqu'une arête mène du nœud $i$ au nœud $j$, on dit que $i$ est le *père* de $j$ et que $j$ est un *fils* de $i$.\n",
    "\n",
    "La racine n'a pas de père, les autres nœuds possèdent un et un seul père. Un nœud peut avoir aucun, un seul ou plusieurs fils. L'*arité* d'un nœud est le nombre de fils de ce nœud.\n",
    "\n",
    "Un nœud qui ne possède aucun fils est appelé une *feuille* de l'arbre. Un nœud qui possède au moins un fils est appelé un *nœud interne*.\n",
    "\n",
    "La *profondeur* d'un nœud est sa distance par rapport à la racine. La *hauteur* d'un arbre est la profondeur maximale de ses nœuds.\n",
    "\n",
    "Enfin, chaque nœud est la racine d'un arbre constitué de lui-même et de sa descendance : on parle alors de *sous-arbre* de l'arbre initial."
   ]
  },
  {
   "cell_type": "markdown",
   "id": "f37d6709",
   "metadata": {
    "slideshow": {
     "slide_type": "subslide"
    }
   },
   "source": [
    "#### Exemple\n",
    "<img src=\"./arbres/arbre1.png\" width=400 height=400> </img>\n",
    "Pour l'arbre précédent :\n",
    "* Les feuilles de l'arbre sont les nœuds 2, 4, 5, 6, 8, 10.\n",
    "* L'arité du nœud $1$ est 3, celle du nœud $7$ est 2.\n",
    "* La profondeur du nœud $3$ est 1, celle du nœud $9$ est 2.\n",
    "* La hauteur de l'arbre est 3.\n",
    "* Le sous-arbre associé au nœud $3$ est :\n",
    "<img src=\"./arbres/arbre2.png\" width=200 height=200> </img>"
   ]
  },
  {
   "cell_type": "markdown",
   "id": "76b01eb1",
   "metadata": {
    "slideshow": {
     "slide_type": "slide"
    }
   },
   "source": [
    "## Arbres binaires\n",
    "\n",
    "On appelle *arbre binaire strict* un arbre dans lequel l'arité de tous les nœuds internes est exactement $2$. Chaque nœud interne possède alors un *fils gauche* et un *fils droit*."
   ]
  },
  {
   "cell_type": "markdown",
   "id": "140f7607",
   "metadata": {
    "slideshow": {
     "slide_type": "fragment"
    }
   },
   "source": [
    "<img align=\"center\" src=\"./arbres/arbre3.png\" width=200 height=2000> </img>"
   ]
  },
  {
   "cell_type": "markdown",
   "id": "40523d09",
   "metadata": {
    "slideshow": {
     "slide_type": "fragment"
    }
   },
   "source": [
    "Un arbre est alors soit une feuille, soit un nœud possédant un fils gauche et un fils droit."
   ]
  },
  {
   "cell_type": "markdown",
   "id": "9056327d",
   "metadata": {
    "slideshow": {
     "slide_type": "subslide"
    }
   },
   "source": [
    "En étiquetant les nœuds internes et les feuilles avec des étiquettes de types différents, on en déduit le type suivant :"
   ]
  },
  {
   "cell_type": "code",
   "execution_count": null,
   "id": "c2cb9db9",
   "metadata": {
    "slideshow": {
     "slide_type": "fragment"
    }
   },
   "outputs": [],
   "source": [
    "type ('a, 'b) arbre =\n",
    "  | Feuille of 'a\n",
    "  | Noeud of 'b * ('a, 'b) arbre * ('a, 'b) arbre\n",
    ";;\n",
    "let arbre = Feuille 1;;"
   ]
  },
  {
   "cell_type": "markdown",
   "id": "c7d339e6",
   "metadata": {
    "slideshow": {
     "slide_type": "subslide"
    }
   },
   "source": [
    "#### Exemple\n",
    "<img src=\"./arbres/arbre4.png\" width=200 height=200> </img>"
   ]
  },
  {
   "cell_type": "code",
   "execution_count": 2,
   "id": "ef418f93",
   "metadata": {
    "slideshow": {
     "slide_type": "fragment"
    }
   },
   "outputs": [
    {
     "data": {
      "text/plain": [
       "val arbre : (int, char) arbre =\n",
       "  Noeud ('*', Noeud ('+', Feuille 3, Feuille 5), Feuille 4)\n"
      ]
     },
     "execution_count": 2,
     "metadata": {},
     "output_type": "execute_result"
    }
   ],
   "source": [
    "let arbre = Noeud ('*',\n",
    "                   Noeud ('+',\n",
    "                          Feuille 3,\n",
    "                          Feuille 5),\n",
    "                   Feuille 4\n",
    "              )\n",
    ";;"
   ]
  },
  {
   "cell_type": "markdown",
   "id": "c0c34727",
   "metadata": {
    "slideshow": {
     "slide_type": "subslide"
    }
   },
   "source": [
    "Plus généralement, un *arbre binaire* est un arbre dans lequel l'arité de chaque nœud est $0$, $1$ ou $2$. Pour définir la structure de donnée associée, il est pratique de considérer qu'un arbre peut être vide, ce qui permet par exemple de définir le type suivant :"
   ]
  },
  {
   "cell_type": "code",
   "execution_count": 3,
   "id": "86416975",
   "metadata": {
    "slideshow": {
     "slide_type": "fragment"
    }
   },
   "outputs": [
    {
     "data": {
      "text/plain": [
       "type 'a arbre = Nil | Noeud of 'a * 'a arbre * 'a arbre\n"
      ]
     },
     "execution_count": 3,
     "metadata": {},
     "output_type": "execute_result"
    }
   ],
   "source": [
    "type 'a arbre =\n",
    "  | Nil\n",
    "  | Noeud of 'a * 'a arbre * 'a arbre\n",
    ";;"
   ]
  },
  {
   "cell_type": "markdown",
   "id": "98636564",
   "metadata": {
    "slideshow": {
     "slide_type": "fragment"
    }
   },
   "source": [
    "* Les feuilles correspondent alors aux nœuds dont les deux fils sont vides.\n",
    "* Ici, les étiquettes des feuilles et des nœuds internes sont de même type."
   ]
  },
  {
   "cell_type": "markdown",
   "id": "b32baf8e",
   "metadata": {
    "slideshow": {
     "slide_type": "slide"
    }
   },
   "source": [
    "# Quelques résultats sur les arbres binaires\n",
    "On travaillera dans la suite avec le type défini juste au-dessus.\n",
    "## Nombre de nœuds et de feuilles\n",
    "Les fonctions suivantes prennent en argument un arbre binaire et renvoient respectivement le nombre de nœuds et le nombre de feuilles de l'arbre."
   ]
  },
  {
   "cell_type": "code",
   "execution_count": 4,
   "id": "4a791ff9",
   "metadata": {
    "slideshow": {
     "slide_type": "fragment"
    }
   },
   "outputs": [
    {
     "data": {
      "text/plain": [
       "val nb_noeuds : 'a arbre -> int = <fun>\n"
      ]
     },
     "execution_count": 4,
     "metadata": {},
     "output_type": "execute_result"
    }
   ],
   "source": [
    "let rec nb_noeuds a =\n",
    "  match a with\n",
    "  | Nil -> 0\n",
    "  | Noeud (_, fg, fd) -> 1 + nb_noeuds fg + nb_noeuds fd\n",
    ";;"
   ]
  },
  {
   "cell_type": "code",
   "execution_count": 5,
   "id": "2d39f047",
   "metadata": {
    "slideshow": {
     "slide_type": "subslide"
    }
   },
   "outputs": [
    {
     "data": {
      "text/plain": [
       "val nb_feuilles : 'a arbre -> int = <fun>\n"
      ]
     },
     "execution_count": 5,
     "metadata": {},
     "output_type": "execute_result"
    }
   ],
   "source": [
    "let rec nb_feuilles a =\n",
    "  match a with\n",
    "  | Nil -> 0\n",
    "  | Noeud (_, Nil, Nil) -> 1\n",
    "  | Noeud (_, fg, fd) -> nb_feuilles fg + nb_feuilles fd\n",
    ";;"
   ]
  },
  {
   "cell_type": "markdown",
   "id": "cabbe314",
   "metadata": {
    "slideshow": {
     "slide_type": "subslide"
    }
   },
   "source": [
    "Dans le cas d'un arbre binaire strict, on dispose du résultat suivant :\n",
    "\n",
    "<div class=\"alert alert-warning\" role=\"alert\">\n",
    "Soit $\\mathcal{A}$ un arbre binaire strict (non vide). Si $\\mathcal{A}$ possède $n$ nœuds internes, alors $\\mathcal{A}$ possède $n+1$ feuilles.\n",
    "</div>"
   ]
  },
  {
   "cell_type": "markdown",
   "id": "88c77172",
   "metadata": {
    "slideshow": {
     "slide_type": "subslide"
    }
   },
   "source": [
    "*Démonstration :*\n",
    "Par récurrence forte sur $n$.\n",
    "* **Initialisation.** Si $n=0$, alors $\\mathcal{A}$ ne comporte aucun nœud interne, donc la racine de $\\mathcal{A}$ est une feuille. Par conséquent, $\\mathcal{A}$ ne comporte qu'une feuille, donc $\\mathcal{A}$ possède $n+1$ feuille.\n",
    "* **Hérédité.** Soit $n \\in \\mathbb{N}$. Supposons la propriété vérifiée par les arbres comportant au plus $n$ nœuds internes.<br/>\n",
    "Si $\\mathcal{A}$ comporte $n+1$ nœuds internes, alors sa racine $r$ est un nœud interne. Soient $n_1$ le nombre de nœuds internes du fils gauche de $r$ et $n_2$ le nombre de nœuds internes du fils droit de $n$, alors $n+1 = n_1 +n_2 +1$, donc $n_1 \\leqslant n$ et $n_2 \\leqslant n$. <br/>\n",
    "Par hypothèse de récurrence, le fils gauche de $r$ comporte $n_1 + 1$ feuilles et le fils droit de $r$ comporte $n_2+1$ feuilles, donc le nombre de feuilles de $\\mathcal{A}$ est $n_1 + 1 + n_2 + 1 = (n+1) + 1$."
   ]
  },
  {
   "cell_type": "markdown",
   "id": "9e11beb4",
   "metadata": {
    "slideshow": {
     "slide_type": "subslide"
    }
   },
   "source": [
    "## Hauteur d'un arbre\n",
    "\n",
    "La fonction suivante prend en argument un arbre binaire et renvoie sa hauteur."
   ]
  },
  {
   "cell_type": "code",
   "execution_count": 6,
   "id": "7ea640da",
   "metadata": {
    "slideshow": {
     "slide_type": "fragment"
    }
   },
   "outputs": [
    {
     "data": {
      "text/plain": [
       "val hauteur : 'a arbre -> int = <fun>\n"
      ]
     },
     "execution_count": 6,
     "metadata": {},
     "output_type": "execute_result"
    }
   ],
   "source": [
    "let rec hauteur a =\n",
    "  match a with\n",
    "  | Nil -> -1 (* de sorte que la hauteur d'une feuille Noeud(_, Vide, Vide) soit 0*)\n",
    "  (* ou 0 si on utilise l'autre définition de la hauteur *)\n",
    "  | Noeud (_, fg, fd) -> 1 + max (hauteur fg) (hauteur fd)\n",
    ";;"
   ]
  },
  {
   "cell_type": "markdown",
   "id": "d629bf0d",
   "metadata": {
    "slideshow": {
     "slide_type": "subslide"
    }
   },
   "source": [
    "<div class=\"alert alert-warning\" role=\"alert\">\n",
    "<b>Théorème.</b> Soit $\\mathcal{A}$ un arbre binaire de hauteur $h$ et comportant $n$ nœuds. \n",
    "\n",
    "Alors $h+1 \\leqslant n \\leqslant 2^{h+1}-1$.\n",
    "</div>"
   ]
  },
  {
   "cell_type": "markdown",
   "id": "8f94aa06",
   "metadata": {
    "slideshow": {
     "slide_type": "fragment"
    }
   },
   "source": [
    "*Démonstration :*\n",
    "Par récurrence forte sur $h$.\n",
    "\n",
    "* **Initialisation.** Si $\\mathcal{A}$ est de hauteur $h=0$, alors $\\mathcal{A}$ ne contient que sa racine, donc son nombre de nœuds est $n=1$, et $h+1 \\leqslant n \\leqslant 2^{h+1}-1$."
   ]
  },
  {
   "cell_type": "markdown",
   "id": "8ac4e40d",
   "metadata": {
    "slideshow": {
     "slide_type": "subslide"
    }
   },
   "source": [
    "* **Hérédité.** Soit $h \\in \\mathbb{N}$. Supposons que la propriété est vérifiée pour tout arbre de hauteur inférieure ou égale à $h$. <br/>\n",
    "Si $\\mathcal{A}$ est de hauteur $h+1$, alors ses fils gauche et droite $\\mathcal{A}_g$ et $\\mathcal{A}_d$ sont de hauteur au plus $h$, donc comportent au plus $2^{h+1}-1$ nœuds. Par conséquent, $\\mathcal{A}$ comporte au plus $2 \\times (2^{h+1}-1)+1$ i.e $2^{h+2}-1$ nœuds.<br/>\n",
    "De plus, l'un des deux sous-arbres $\\mathcal{A}_g$ et $\\mathcal{A}_d$ est de hauteur exactement $h$ donc comporte au moins $h+1$ nœuds, donc $\\mathcal{A}$ comporte au moins $h+2$ nœuds."
   ]
  },
  {
   "cell_type": "markdown",
   "id": "d39c0a98",
   "metadata": {
    "slideshow": {
     "slide_type": "subslide"
    }
   },
   "source": [
    "<div class=\"alert alert-warning\" role=\"alert\">\n",
    "<b>Théorème.</b> Soit $\\mathcal{A}$ un arbre binaire de hauteur $h$ et comportant $f$ feuilles. Alors $f \\leqslant 2^h$, donc $h \\geqslant \\lceil \\log_2 f \\rceil$.\n",
    "</div>\n",
    "\n",
    "*Démonstration :* Même principe"
   ]
  },
  {
   "cell_type": "markdown",
   "id": "0cfb19da",
   "metadata": {
    "slideshow": {
     "slide_type": "subslide"
    }
   },
   "source": [
    "Un arbre binaire de hauteur $h$ comportant exactement $2^{h+1}-1$ nœuds est appelé un *arbre binaire complet*. On peut prouver par récurrence qu'un arbre binaire complet est strict et que ses feuilles ont toutes la même profondeur.\n",
    "<img src=\"./arbres/arbre_binaire_complet.png\" width=1000 height=400> </img>\n"
   ]
  },
  {
   "cell_type": "markdown",
   "id": "23ffcc80",
   "metadata": {
    "slideshow": {
     "slide_type": "slide"
    }
   },
   "source": [
    "# Parcours d'arbres binaires\n",
    "\n",
    "On souhaite énumérer les nœuds d'un arbre (pour stocker leurs étiquettes dans une liste ou encore pour les afficher). On distingue deux types de parcours : les parcours en *profondeur* et les parcours *en largeur*."
   ]
  },
  {
   "cell_type": "markdown",
   "id": "b6e0055b",
   "metadata": {
    "slideshow": {
     "slide_type": "subslide"
    }
   },
   "source": [
    "## Parcours en profondeur\n",
    "Lors d'un *parcours en profondeur* d'un arbre binaire non vide, comportant donc une racine et deux sous-arbres, chacun de ces sous-arbres est parcouru en entier avant de parcourir le sous-arbre suivant.\n",
    "\n",
    "<img src=\"./arbres/parcours_profondeur.png\" width=400 height=200> </img>\n",
    "\n",
    "\n",
    "On distingue trois types de parcours en profondeur :\n",
    "* le *parcours préfixe* : on parcourt la racine $r$, puis son fils gauche $\\mathcal{A}_g$, puis son fils droit $\\mathcal{A}_d$;\n",
    "* le *parcours infixe* : on parcourt le fils gauche, puis $r$, puis le fils droit ;\n",
    "* le *parcours postfixe* : on parcourt le fils gauche, puis le fils droit, puis $r$."
   ]
  },
  {
   "cell_type": "markdown",
   "id": "84c95d60",
   "metadata": {
    "slideshow": {
     "slide_type": "subslide"
    }
   },
   "source": [
    "Donner chacun des trois parcours en profondeur de l'arbre suivant :\n",
    "\n",
    "<img src=\"./arbres/arbre_exemple_parcours.png\" width=400 height=200> </img>\n",
    "\n",
    "  "
   ]
  },
  {
   "cell_type": "markdown",
   "id": "ed069baf",
   "metadata": {
    "slideshow": {
     "slide_type": "fragment"
    }
   },
   "source": [
    "* **Parcours préfixe :** <!--1 2 4 7 8 3 5 6 9 10-->\n",
    "* **Parcours infixe :** <!--7 4 8 2 1 5 3 9 6 10-->\n",
    "* **Parcours postfixe :** <!--7 8 4 2 5 9 10 6 3 1-->"
   ]
  },
  {
   "cell_type": "markdown",
   "id": "0481ae47",
   "metadata": {
    "slideshow": {
     "slide_type": "subslide"
    }
   },
   "source": [
    "*Remarque :* Dans le cas d'un arbre représentant une expression arithmétique, les parcours préfixe et postfixe correspondent respectivement aux représentations préfixe et postfixe de l'expression ; la notation postfixée est aussi appelée notation *polonaise inversée*."
   ]
  },
  {
   "cell_type": "markdown",
   "id": "adee1244",
   "metadata": {
    "slideshow": {
     "slide_type": "subslide"
    }
   },
   "source": [
    "#### Exercice 1\n",
    "Écrire des fonctions ` parcours_prefixe : 'a arbre -> 'a list`, ` parcours_infixe : 'a arbre -> 'a list` et ` parcours_postfixe : 'a arbre -> 'a list`, prenant en argument un arbre et renvoyant la liste de ses étiquettes construite par chacun des trois parcours en profondeur."
   ]
  },
  {
   "cell_type": "code",
   "execution_count": 7,
   "id": "c8a2780c",
   "metadata": {
    "slideshow": {
     "slide_type": "fragment"
    }
   },
   "outputs": [
    {
     "data": {
      "text/plain": [
       "val parcours_prefixe : 'a arbre -> 'a list = <fun>\n"
      ]
     },
     "execution_count": 7,
     "metadata": {},
     "output_type": "execute_result"
    }
   ],
   "source": [
    "let rec parcours_prefixe a =\n",
    "  match a with\n",
    "  | Nil -> []\n",
    "  | Noeud (x, fg, fd) ->\n",
    "     x::parcours_prefixe fg @ parcours_prefixe fd\n",
    ";;"
   ]
  },
  {
   "cell_type": "code",
   "execution_count": 8,
   "id": "ce042681",
   "metadata": {
    "slideshow": {
     "slide_type": "fragment"
    }
   },
   "outputs": [
    {
     "data": {
      "text/plain": [
       "val parcours_infixe : 'a arbre -> 'a list = <fun>\n"
      ]
     },
     "execution_count": 8,
     "metadata": {},
     "output_type": "execute_result"
    }
   ],
   "source": [
    "let rec parcours_infixe a =\n",
    "  match a with\n",
    "  | Nil -> []\n",
    "  | Noeud (x, fg, fd) ->\n",
    "     parcours_infixe fg @ x::parcours_infixe fd\n",
    ";;"
   ]
  },
  {
   "cell_type": "code",
   "execution_count": 9,
   "id": "f19fff00",
   "metadata": {
    "slideshow": {
     "slide_type": "fragment"
    }
   },
   "outputs": [
    {
     "data": {
      "text/plain": [
       "val parcours_postfixe : 'a arbre -> 'a list = <fun>\n"
      ]
     },
     "execution_count": 9,
     "metadata": {},
     "output_type": "execute_result"
    }
   ],
   "source": [
    "let rec parcours_postfixe a =\n",
    "  match a with\n",
    "  | Nil -> []\n",
    "  | Noeud (x, fg, fd) ->\n",
    "     parcours_postfixe fg @ parcours_postfixe fd @ [x]\n",
    ";;"
   ]
  },
  {
   "cell_type": "markdown",
   "id": "b2c765b5",
   "metadata": {
    "slideshow": {
     "slide_type": "subslide"
    }
   },
   "source": [
    "## Parcours en largeur\n",
    "Le *parcours en largeur* consiste à parcourir les nœuds par profondeur croissante, de gauche à droite.\\medskip\n",
    "\n",
    "Dans le cas de l'arbre précédent, le parcours en largeur serait : 1-2-3-4-5-6-7-8-9-10.\n",
    "\n",
    "\n",
    "#### Exercice 2\n",
    "Écrire des fonctions `parcours_largeur : 'a arbre -> 'a list`, prenant en argument un arbre et renvoyant la liste de ses étiquettes construite par un parcours en largeur."
   ]
  },
  {
   "cell_type": "code",
   "execution_count": 10,
   "id": "885ca2f6",
   "metadata": {
    "slideshow": {
     "slide_type": "skip"
    }
   },
   "outputs": [
    {
     "data": {
      "text/plain": [
       "val parcours_largeur : 'a arbre -> 'a list = <fun>\n"
      ]
     },
     "execution_count": 10,
     "metadata": {},
     "output_type": "execute_result"
    }
   ],
   "source": [
    "let parcours_largeur a =\n",
    "  let file = Queue.create () in\n",
    "  let l_rev = ref [] in\n",
    "  Queue.push a file;\n",
    "  while not (Queue.is_empty file) do\n",
    "    let tree = Queue.pop file in\n",
    "    match tree with\n",
    "    | Nil -> ()\n",
    "    | Noeud (x, fg, fd) ->\n",
    "       l_rev := x::!l_rev;\n",
    "       Queue.push fg file;\n",
    "       Queue.push fd file\n",
    "  done;\n",
    "    List.rev !l_rev;;"
   ]
  },
  {
   "cell_type": "markdown",
   "id": "927334ec",
   "metadata": {
    "slideshow": {
     "slide_type": "fragment"
    }
   },
   "source": [
    "où la fonction `List.rev` calcule en temps linéaire le miroir de la liste passée en argument."
   ]
  },
  {
   "cell_type": "markdown",
   "id": "10a7277e",
   "metadata": {
    "slideshow": {
     "slide_type": "subslide"
    }
   },
   "source": [
    "Pour rappel, on sait écrire une fonction qui renverse une liste :"
   ]
  },
  {
   "cell_type": "code",
   "execution_count": 11,
   "id": "de0785fd",
   "metadata": {
    "slideshow": {
     "slide_type": "fragment"
    }
   },
   "outputs": [
    {
     "data": {
      "text/plain": [
       "val miroir : 'a list -> 'a list = <fun>\n"
      ]
     },
     "execution_count": 11,
     "metadata": {},
     "output_type": "execute_result"
    }
   ],
   "source": [
    "let miroir lst =\n",
    "  let rec aux l acc =\n",
    "    match l with\n",
    "    | [] -> acc\n",
    "    | t::q -> aux q (t::acc)\n",
    "  in\n",
    "  aux lst []\n",
    ";;"
   ]
  },
  {
   "cell_type": "markdown",
   "id": "77d5ab68",
   "metadata": {
    "slideshow": {
     "slide_type": "slide"
    }
   },
   "source": [
    "# Exercices"
   ]
  },
  {
   "cell_type": "markdown",
   "id": "b6387ea4",
   "metadata": {
    "slideshow": {
     "slide_type": "subslide"
    }
   },
   "source": [
    "#### Exercice 3\n",
    "La numérotation de Sosa-Stradonitz d'un arbre binaire strict, utilisée pour identifier des individus dans une généalogie ascendante, consiste à numéroter les nœuds d'un arbre suivant les règles suivantes :\n",
    "\n",
    "* La racine porte le numéro $1$ ;\n",
    "* Si un nœud porte le numéro $n$, alors son fils gauche porte le numéro $2n$ et son fils droit le numéro $2n+1$."
   ]
  },
  {
   "cell_type": "markdown",
   "id": "35ecf325",
   "metadata": {
    "slideshow": {
     "slide_type": "subslide"
    }
   },
   "source": [
    "1. Montrer que deux nœuds distincts ne peuvent pas porter le même numéro.\n",
    "\n",
    "<font style='font-family:Georgia' color=\"#00afbf\"> Par récurrence forte : si deux nœuds ont le numéro n, alors ils sont identiques.\n",
    "    \n",
    "- Initialisation : OK\n",
    "    \n",
    "- Hérédité : si $n \\geq 2$, supposons la propriété vérifiée jusqu'au rang $n-1$, et si $x$ et $y$ sont deux nœuds de numéros $n$, alors $x$ et $y$ ne sont pas la racine et leurs pères respectifs ont pour numéro $\\lfloor n/2 \\rfloor$, donc sont égaux. $x$ et $y$ ont le même père $p$ ; soit $n$ est pair, alors $x$ et $y$ sont tous les deux le fils gauche de $p$, et sont donc égaux ; de même pour le cas $n$ impair (fils droit).\n",
    "</font>"
   ]
  },
  {
   "cell_type": "markdown",
   "id": "54fedf97",
   "metadata": {
    "slideshow": {
     "slide_type": "subslide"
    }
   },
   "source": [
    "2. Montrer que les nœuds de profondeur $p$ portent des numéros compris entre $2^p$ et $2^{p+1}-1$.\n",
    "\n",
    "<font style='font-family:Georgia' color=\"#00afbf\">\n",
    "    \n",
    "* Immédiat pour $p=0$,\n",
    "\n",
    "* Si vrai au rang $p$, alors à la profondeur $p+1$ les fils gauches ont un numéro (pair) compris entre $2^{p+1}$ et $2^{p+2} - 2$ et les fils droits ont un numéro (impair) compris entre $2^{p+1}+1$ et $2^{p+2} - 1$ ; par conséquent, les nœuds de profondeur $p+1$ ont un numéro compris entre $2^{p+1}$ et $2^{p+2}-1$. \n",
    "</font>\n",
    "\n",
    "3. Déterminer la profondeur d'un nœud de numéro $n$.\n",
    "\n",
    "<font style='font-family:Georgia' color=\"#00afbf\">\n",
    "    \n",
    "    \n",
    "    <br/>\n",
    "<br/>\n",
    "<br/>\n",
    "<br/>\n",
    "<br/>\n",
    "<br/>\n",
    "<br/>\n",
    "<br/>\n",
    "<br/>\n",
    "    \n",
    "    \n",
    "    \n",
    "    \n",
    "Pour tout $p \\in \\mathbb{N}$, $2^p \\leqslant n < 2^{p+1} \\Leftrightarrow p = \\lfloor \\log_2 n \\rfloor$. Par conséquent, la profondeur du nœud de numéro $n$ est $\\lfloor \\log_2 n \\rfloor$.</font>"
   ]
  },
  {
   "cell_type": "markdown",
   "id": "99301924",
   "metadata": {
    "slideshow": {
     "slide_type": "subslide"
    }
   },
   "source": [
    "4. Écrire une fonction `arbre_binaire_complet : int -> int arbre` prenant en argument un entier $h$ et renvoyant un arbre binaire complet de hauteur $h$ dont les étiquettes correspondent à la numérotation de Sosa-Stradonitz."
   ]
  },
  {
   "cell_type": "code",
   "execution_count": 7,
   "id": "97450edb",
   "metadata": {},
   "outputs": [
    {
     "data": {
      "text/plain": [
       "type 'a arbre = Vide | Noeud of 'a * 'a arbre * 'a arbre\n"
      ]
     },
     "execution_count": 7,
     "metadata": {},
     "output_type": "execute_result"
    },
    {
     "data": {
      "text/plain": [
       "val mon_arbre : int -> int arbre = <fun>\n"
      ]
     },
     "execution_count": 7,
     "metadata": {},
     "output_type": "execute_result"
    }
   ],
   "source": [
    "type 'a arbre = Vide | Noeud of 'a * 'a arbre * 'a arbre;;\n",
    "\n",
    "(* En prenant la convention hauteur(racine seule)=0*)\n",
    "let mon_arbre p =\n",
    "  let rec aux p num = \n",
    "  (* construit un arbre numéroté à partir de num et de hauteur p*)\n",
    "    match p with\n",
    "    | 0 -> Noeud (num, Vide, Vide)\n",
    "    | _ -> Noeud (num, aux (p-1) (2*num), aux (p-1) (2*num+1))\n",
    "  in aux p 1\n",
    ";;\n"
   ]
  },
  {
   "cell_type": "code",
   "execution_count": 5,
   "id": "0adffd5c",
   "metadata": {},
   "outputs": [
    {
     "data": {
      "text/plain": [
       "- : int arbre =\n",
       "Noeud (1, Noeud (2, Noeud (4, Vide, Vide), Noeud (5, Vide, Vide)),\n",
       " Noeud (3, Noeud (6, Vide, Vide), Noeud (7, Vide, Vide)))\n"
      ]
     },
     "execution_count": 5,
     "metadata": {},
     "output_type": "execute_result"
    }
   ],
   "source": [
    "mon_arbre 2;;"
   ]
  },
  {
   "cell_type": "markdown",
   "id": "7bcdd778",
   "metadata": {
    "slideshow": {
     "slide_type": "subslide"
    }
   },
   "source": [
    "5. Écrire une fonction `numeroter :'a arbre -> ('a * int) arbre` qui prend en argument un arbre et qui renvoie l'arbre obtenu en numérotant ses nœuds."
   ]
  },
  {
   "cell_type": "code",
   "execution_count": 10,
   "id": "714398e0",
   "metadata": {},
   "outputs": [
    {
     "data": {
      "text/plain": [
       "val numeroter : 'a arbre -> ('a * int) arbre = <fun>\n"
      ]
     },
     "execution_count": 10,
     "metadata": {},
     "output_type": "execute_result"
    }
   ],
   "source": [
    "let numeroter arbre =\n",
    "  let rec aux num arbre = \n",
    "  (* numérote l'arbre à partir de num et de hauteur p*)\n",
    "    match arbre with\n",
    "    | Vide -> Vide\n",
    "    | Noeud (a, b,c) -> Noeud ((a,num), aux (2*num) b , aux (2*num+1) c)\n",
    "  in aux 1 arbre\n",
    ";;"
   ]
  },
  {
   "cell_type": "code",
   "execution_count": 12,
   "id": "6a823e31",
   "metadata": {},
   "outputs": [
    {
     "data": {
      "text/plain": [
       "val arbre : string arbre =\n",
       "  Noeud (\"titi\", Noeud (\"toto\", Vide, Vide),\n",
       "   Noeud (\"mpsi\", Noeud (\"maths\", Vide, Vide), Noeud (\"banane\", Vide, Vide)))\n"
      ]
     },
     "execution_count": 12,
     "metadata": {},
     "output_type": "execute_result"
    }
   ],
   "source": [
    "let arbre = Noeud(\"titi\", Noeud(\"toto\", Vide, Vide), \n",
    "                Noeud(\"mpsi\", Noeud(\"maths\", Vide, Vide),\n",
    "                    Noeud(\"banane\", Vide, Vide)));;"
   ]
  },
  {
   "cell_type": "code",
   "execution_count": 13,
   "id": "b5654479",
   "metadata": {},
   "outputs": [
    {
     "data": {
      "text/plain": [
       "- : (string * int) arbre =\n",
       "Noeud ((\"titi\", 1), Noeud ((\"toto\", 2), Vide, Vide),\n",
       " Noeud ((\"mpsi\", 3), Noeud ((\"maths\", 6), Vide, Vide),\n",
       "  Noeud ((\"banane\", 7), Vide, Vide)))\n"
      ]
     },
     "execution_count": 13,
     "metadata": {},
     "output_type": "execute_result"
    }
   ],
   "source": [
    "numeroter arbre;;"
   ]
  },
  {
   "cell_type": "markdown",
   "id": "009fff2d",
   "metadata": {
    "slideshow": {
     "slide_type": "subslide"
    }
   },
   "source": [
    "#### Exercice 4\n",
    "On considère dans cet exercice des arbres avec des arités quelconques.\n",
    "\n",
    "1. Proposer un type permettant de représenter ces arbres. \n",
    "2. Réécrire les fonctions calculant le nombre de nœuds d'un arbre, son nombre de feuilles, sa hauteur."
   ]
  },
  {
   "cell_type": "code",
   "execution_count": null,
   "id": "50ce8409",
   "metadata": {},
   "outputs": [],
   "source": []
  },
  {
   "cell_type": "markdown",
   "id": "629dc304",
   "metadata": {
    "slideshow": {
     "slide_type": "subslide"
    }
   },
   "source": [
    "#### Exercice 5\n",
    "En choisissant un type d'arbres adapté, écrire une fonction prenant en argument un arbre d'expression arithmétique sur des entiers et renvoyant la valeur associée à l'expression.\n"
   ]
  },
  {
   "cell_type": "code",
   "execution_count": null,
   "id": "c75476e4",
   "metadata": {},
   "outputs": [],
   "source": []
  }
 ],
 "metadata": {
  "celltoolbar": "Format de la Cellule Texte Brut",
  "kernelspec": {
   "display_name": "OCaml default",
   "language": "OCaml",
   "name": "ocaml-jupyter"
  },
  "language_info": {
   "codemirror_mode": "text/x-ocaml",
   "file_extension": ".ml",
   "mimetype": "text/x-ocaml",
   "name": "OCaml",
   "nbconverter_exporter": null,
   "pygments_lexer": "OCaml",
   "version": "4.05.0"
  },
  "toc": {
   "base_numbering": 1,
   "nav_menu": {},
   "number_sections": false,
   "sideBar": false,
   "skip_h1_title": false,
   "title_cell": "Table of Contents",
   "title_sidebar": "Contents",
   "toc_cell": false,
   "toc_position": {
    "height": "375px",
    "left": "1621px",
    "top": "110px",
    "width": "214px"
   },
   "toc_section_display": true,
   "toc_window_display": true
  }
 },
 "nbformat": 4,
 "nbformat_minor": 5
}
