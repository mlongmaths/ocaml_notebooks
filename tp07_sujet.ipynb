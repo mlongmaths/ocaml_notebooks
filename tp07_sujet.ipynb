{
 "cells": [
  {
   "cell_type": "markdown",
   "id": "400943cb",
   "metadata": {},
   "source": [
    "Si vous devez rendre votre travail, vérifiez que celui-ci peut s'exécuter sans erreur, en redémarrant le noyau et en exécutant toutes les cellules (dans le menu : Kernel$\\rightarrow$Restart & Run all)\n",
    "\n",
    "Par ailleurs, renseignez vos noms dans la cellule suivante :"
   ]
  },
  {
   "cell_type": "code",
   "execution_count": null,
   "id": "37236ee7",
   "metadata": {},
   "outputs": [],
   "source": [
    "let noms_auteurs = [\"NOM_Prenom1\"; \"NOM_Prenom2\"; \"NOM_Prenom3\"]"
   ]
  },
  {
   "cell_type": "markdown",
   "id": "0a32d2b5",
   "metadata": {},
   "source": [
    "---"
   ]
  },
  {
   "cell_type": "markdown",
   "id": "6ae00a48",
   "metadata": {
    "deletable": false,
    "editable": false,
    "nbgrader": {
     "cell_type": "markdown",
     "checksum": "ee51fac13ddfaf67fe86b4ec76c25415",
     "grade": false,
     "grade_id": "cell-6600ea02327f1d95",
     "locked": true,
     "schema_version": 3,
     "solution": false,
     "task": false
    }
   },
   "source": [
    "# TP n°7 : Plus longue sous-séquence commune\n",
    "\n",
    "Soit $l=[l_0,\\dots,l_{n-1}]$ une liste. On appelle sous-séquence de la liste $l$ toute liste obtenue à partir de $l$ en supprimant éventuellement certains éléments et en laissant les autres dans l'ordre. Autrement dit, une sous-séquence de $l$ est une liste de la forme $[l_{\\varphi(0)};\\dots;l_{\\varphi(k-1)}]$ avec $0 \\leqslant \\varphi(0)<\\dots<\\varphi(k-1) \\leqslant n-1$.\n",
    "#### Question 1\n",
    "\n",
    "Écrire une fonction `est_sous_sequence` qui prend en argument deux listes $l_1$ et $l_2$ et qui teste si $l_1$ est une sous-séquence de $l_2$."
   ]
  },
  {
   "cell_type": "code",
   "execution_count": null,
   "id": "81b85440",
   "metadata": {
    "deletable": false,
    "nbgrader": {
     "cell_type": "code",
     "checksum": "6c0eb4dd21d0e5e4b7787758be5e491e",
     "grade": true,
     "grade_id": "cell-a1fdb66be7570078",
     "locked": false,
     "points": 0,
     "schema_version": 3,
     "solution": true,
     "task": false
    }
   },
   "outputs": [],
   "source": [
    "(* ENTRER VOTRE CODE ICI *)"
   ]
  },
  {
   "cell_type": "markdown",
   "id": "5c7446a2",
   "metadata": {
    "deletable": false,
    "editable": false,
    "nbgrader": {
     "cell_type": "markdown",
     "checksum": "985ef881219e30bb5d4e710b791e98b2",
     "grade": false,
     "grade_id": "cell-170dc6636d3b38d8",
     "locked": true,
     "schema_version": 3,
     "solution": false,
     "task": false
    }
   },
   "source": [
    "#### Question 2\n",
    "Soit $l$ une liste formée de $n$ éléments distincts. Combien existe-il de sous-séquences de $l$ ?"
   ]
  },
  {
   "cell_type": "markdown",
   "id": "c49b8683",
   "metadata": {
    "deletable": false,
    "nbgrader": {
     "cell_type": "markdown",
     "checksum": "5dc2f83a3860b1cea6c717f289f3e938",
     "grade": true,
     "grade_id": "cell-9673833383816363",
     "locked": false,
     "points": 0,
     "schema_version": 3,
     "solution": true,
     "task": false
    }
   },
   "source": [
    "> *Votre réponse :*"
   ]
  },
  {
   "cell_type": "markdown",
   "id": "bc43668c",
   "metadata": {
    "deletable": false,
    "editable": false,
    "nbgrader": {
     "cell_type": "markdown",
     "checksum": "6f4874667a897482905724af9f669893",
     "grade": false,
     "grade_id": "cell-4c2c6f86b6d7055a",
     "locked": true,
     "schema_version": 3,
     "solution": false,
     "task": false
    }
   },
   "source": [
    "#### Question 3\n",
    "Écrire une fonction récursive `sous_sequences`  prenant en argument une liste et renvoyant la liste de ses sous-séquences."
   ]
  },
  {
   "cell_type": "code",
   "execution_count": null,
   "id": "761781e4",
   "metadata": {
    "deletable": false,
    "nbgrader": {
     "cell_type": "code",
     "checksum": "fb67a71f9f7fb4c7f7f625a88944d2a9",
     "grade": true,
     "grade_id": "cell-28fb1001db1cf9b2",
     "locked": false,
     "points": 0,
     "schema_version": 3,
     "solution": true,
     "task": false
    }
   },
   "outputs": [],
   "source": [
    "(* ENTRER VOTRE CODE ICI *)"
   ]
  },
  {
   "cell_type": "markdown",
   "id": "b8e92eeb",
   "metadata": {
    "deletable": false,
    "editable": false,
    "nbgrader": {
     "cell_type": "markdown",
     "checksum": "f9da599ab15797d93f8116bc4daa3249",
     "grade": false,
     "grade_id": "cell-87d552a5ed7a96a2",
     "locked": true,
     "schema_version": 3,
     "solution": false,
     "task": false
    }
   },
   "source": [
    "Soient $x=[x_0,\\dots,x_{n-1}]$  et $y=[y_0,\\dots,y_{m-1}]$ deux listes formées d'éléments du même type. On cherche à déterminer la longueur maximale d'une sous-séquence commune à $x$ et $y$ et à trouver une sous-séquence commune de cette longueur. On parle alors de plus longue sous-séquence commune (attention, il n'y a pas forcément unicité : ne pas parler de *la* plus longue sous-séquence commune).\n",
    "\n",
    "Une première façon de résoudre le problème est de chercher toutes les sous-séquences communes afin de trouver l'une des plus longues.\n",
    "#### Question 4\n",
    "En utilisant les questions précédentes, écrire une fonction `plssc1` qui renvoie une plus longue sous-séquence commune de deux listes."
   ]
  },
  {
   "cell_type": "code",
   "execution_count": null,
   "id": "b7831431",
   "metadata": {
    "deletable": false,
    "nbgrader": {
     "cell_type": "code",
     "checksum": "097474524e8e7c0798869e2c1ee11673",
     "grade": true,
     "grade_id": "cell-f10b2750c434b4e2",
     "locked": false,
     "points": 0,
     "schema_version": 3,
     "solution": true,
     "task": false
    }
   },
   "outputs": [],
   "source": [
    "(* ENTRER VOTRE CODE ICI *)"
   ]
  },
  {
   "cell_type": "markdown",
   "id": "fa872cd3",
   "metadata": {
    "deletable": false,
    "editable": false,
    "nbgrader": {
     "cell_type": "markdown",
     "checksum": "ad3872cfae14f0b7fec8f4420f6fad54",
     "grade": false,
     "grade_id": "cell-3d0546be9bedded3",
     "locked": true,
     "schema_version": 3,
     "solution": false,
     "task": false
    }
   },
   "source": [
    "Cet algorithme est en temps exponentiel donc plutôt mauvais. On va essayer de concevoir un algorithme plus rapide.\n",
    "\n",
    "On note $L(i,j)$ la longueur d'une plus longue sous-séquence commune de $[x_0,\\dots,x_{i-1}]$ et $[y_0,\\dots,y_{j-1}]$.\n",
    "\n",
    "#### Question 5\n",
    "Montrer les relations suivantes :\n",
    "\n",
    "- $\\forall i \\in  ⟦0,n⟧, L(i,0)=0$ et $\\forall j \\in ⟦0,m⟧, L(0,j)=0$\n",
    "- Si $i>0$ et $j>0$, alors \n",
    "$\\displaystyle L(i,j) = \\left\\lbrace \\begin{array}{ll} 1+L(i-1,j-1) & \\text{ si } x_{i-1}=y_{j-1} \\\\\n",
    "\t\\max \\left( L(i-1,j) , L(i,j-1) \\right) & \\text{ sinon} \\end{array}\\right.$\n",
    "\n",
    "#### Question 6\n",
    "En déduire une fonction récursive `lplssc1` qui calcule la longueur d'une plus longue sous-séquence commune de deux listes.\\\\\n",
    "\t*On pourra remarquer que la longueur d'une plus longue sous-séquence commune de deux listes est égale à la longueur d'une plus longue sous-séquence commune des miroirs des deux listes.*"
   ]
  },
  {
   "cell_type": "code",
   "execution_count": null,
   "id": "062e3ba7",
   "metadata": {
    "deletable": false,
    "nbgrader": {
     "cell_type": "code",
     "checksum": "acc66ba8d683efea4bfd1f971e04d99f",
     "grade": true,
     "grade_id": "cell-35cdc98eef4c3bf2",
     "locked": false,
     "points": 0,
     "schema_version": 3,
     "solution": true,
     "task": false
    }
   },
   "outputs": [],
   "source": [
    "(* ENTRER VOTRE CODE ICI *)"
   ]
  },
  {
   "cell_type": "markdown",
   "id": "9c46ca7a",
   "metadata": {
    "deletable": false,
    "editable": false,
    "nbgrader": {
     "cell_type": "markdown",
     "checksum": "c69e61ed8d43a9a0b4a3f6313b8d9ae8",
     "grade": false,
     "grade_id": "cell-a9445ab08ae69c45",
     "locked": true,
     "schema_version": 3,
     "solution": false,
     "task": false
    }
   },
   "source": [
    "On pourra montrer que le nombre d'appels récursifs dans le pire des cas effectués par cette fonction peut être minoré par une exponentielle en $\\min (n,m)$.\n",
    "#### Question 7\n",
    "Lorsque $n=m=3$, combien de fois calcule-t-on $L(1,0)$ dans le pire des cas ?"
   ]
  },
  {
   "cell_type": "markdown",
   "id": "6d4da419",
   "metadata": {
    "deletable": false,
    "nbgrader": {
     "cell_type": "markdown",
     "checksum": "93a9b2277ba4942fb422f18df59c1ab2",
     "grade": true,
     "grade_id": "cell-2e3e164cebad4f94",
     "locked": false,
     "points": 0,
     "schema_version": 3,
     "solution": true,
     "task": false
    }
   },
   "source": [
    "> *Votre réponse :*"
   ]
  },
  {
   "cell_type": "markdown",
   "id": "236081f1",
   "metadata": {
    "deletable": false,
    "editable": false,
    "nbgrader": {
     "cell_type": "markdown",
     "checksum": "20dae74c6b9113012ff6be944decd60c",
     "grade": false,
     "grade_id": "cell-4ed9aac369894716",
     "locked": true,
     "schema_version": 3,
     "solution": false,
     "task": false
    }
   },
   "source": [
    "De nombreuses valeurs sont calculées plusieurs fois. Pour éviter cela, on conçoit un algorithme de programmation dynamique pour le calcul des $L(i,j)$, en stockant leurs valeurs dans une matrice. \n",
    "\n",
    "Dans cette partie, on pourra convertir les listes en tableaux à l'aide de la fonction `Array.of_list`\n",
    "\n",
    "#### Question 8\n",
    "Indiquer dans quel ordre remplir la matrice. Une fois cette matrice calculée, comment déterminer la longueur d'une plus longue sous-séquence commune ?"
   ]
  },
  {
   "cell_type": "markdown",
   "id": "8db14256",
   "metadata": {
    "deletable": false,
    "nbgrader": {
     "cell_type": "markdown",
     "checksum": "a43e35d6a0f33a711410d58ebd126342",
     "grade": true,
     "grade_id": "cell-c1266d7f248200c0",
     "locked": false,
     "points": 0,
     "schema_version": 3,
     "solution": true,
     "task": false
    }
   },
   "source": [
    "> *Votre réponse :*"
   ]
  },
  {
   "cell_type": "markdown",
   "id": "52b9a1ab",
   "metadata": {
    "deletable": false,
    "editable": false,
    "nbgrader": {
     "cell_type": "markdown",
     "checksum": "b28bc0c00789c06f711efd195c90886d",
     "grade": false,
     "grade_id": "cell-82df41016bf0b26c",
     "locked": true,
     "schema_version": 3,
     "solution": false,
     "task": false
    }
   },
   "source": [
    "#### Question 9\n",
    "Écrire une fonction `lplssc2` qui calcule la longueur d'une plus longue sous-séquence commune de deux listes en implémentant cette méthode. Quelle est sa complexité ?\n",
    "\n",
    "*Pour créer la matrice, on utilisera la fonction `Array.make_matrix`*"
   ]
  },
  {
   "cell_type": "code",
   "execution_count": null,
   "id": "c63f8e46",
   "metadata": {
    "deletable": false,
    "nbgrader": {
     "cell_type": "code",
     "checksum": "41a52f4712e842dffa8a5668367ef275",
     "grade": true,
     "grade_id": "cell-dcdb629d1aff4f87",
     "locked": false,
     "points": 0,
     "schema_version": 3,
     "solution": true,
     "task": false
    }
   },
   "outputs": [],
   "source": [
    "(* ENTRER VOTRE CODE ICI *)"
   ]
  },
  {
   "cell_type": "markdown",
   "id": "905d5d21",
   "metadata": {
    "deletable": false,
    "editable": false,
    "nbgrader": {
     "cell_type": "markdown",
     "checksum": "98944be77351c5ad43cd6c9be4b55c27",
     "grade": false,
     "grade_id": "cell-513e5ce09e6bf190",
     "locked": true,
     "schema_version": 3,
     "solution": false,
     "task": false
    }
   },
   "source": [
    "#### Question 10\n",
    "Comment retrouver une plus longue sous-séquence commune à partir de la matrice des $L(i,j)$ ? "
   ]
  },
  {
   "cell_type": "markdown",
   "id": "dde3aa4b",
   "metadata": {
    "deletable": false,
    "nbgrader": {
     "cell_type": "markdown",
     "checksum": "093ce0ad14cfe5b8b8b3385e3070e209",
     "grade": true,
     "grade_id": "cell-ee6b5a5121eec078",
     "locked": false,
     "points": 0,
     "schema_version": 3,
     "solution": true,
     "task": false
    }
   },
   "source": [
    "> *Votre réponse :*"
   ]
  },
  {
   "cell_type": "markdown",
   "id": "81c310a6",
   "metadata": {
    "deletable": false,
    "editable": false,
    "nbgrader": {
     "cell_type": "markdown",
     "checksum": "a8d57f8aaea15d13eab45726f34ff9f6",
     "grade": false,
     "grade_id": "cell-e80322db4bf14fc1",
     "locked": true,
     "schema_version": 3,
     "solution": false,
     "task": false
    }
   },
   "source": [
    "#### Question 11\n",
    "Écrire une fonction `plssc2` qui calcule une plus longue sous-séquence commune."
   ]
  },
  {
   "cell_type": "code",
   "execution_count": null,
   "id": "da44640f",
   "metadata": {
    "deletable": false,
    "nbgrader": {
     "cell_type": "code",
     "checksum": "0e73d17c62afda77400c729652fa28b0",
     "grade": true,
     "grade_id": "cell-84704e1f9a0dff51",
     "locked": false,
     "points": 0,
     "schema_version": 3,
     "solution": true,
     "task": false
    }
   },
   "outputs": [],
   "source": [
    "(* ENTRER VOTRE CODE ICI *)"
   ]
  },
  {
   "cell_type": "markdown",
   "id": "8bc7b2fb",
   "metadata": {
    "deletable": false,
    "editable": false,
    "nbgrader": {
     "cell_type": "markdown",
     "checksum": "ac0f95f5e11f2bfcd76037afaf8972db",
     "grade": false,
     "grade_id": "cell-ef030af3753f9367",
     "locked": true,
     "schema_version": 3,
     "solution": false,
     "task": false
    }
   },
   "source": [
    "#### Question 12\n",
    "L'adapter pour qu'elle donne toutes les plus longue sous-séquence commune."
   ]
  },
  {
   "cell_type": "code",
   "execution_count": null,
   "id": "05eaf8bd",
   "metadata": {
    "deletable": false,
    "nbgrader": {
     "cell_type": "code",
     "checksum": "e15812620f9614a55b7573816fabcd6f",
     "grade": true,
     "grade_id": "cell-fa8c1a00cfa45a21",
     "locked": false,
     "points": 0,
     "schema_version": 3,
     "solution": true,
     "task": false
    }
   },
   "outputs": [],
   "source": [
    "(* ENTRER VOTRE CODE ICI *)"
   ]
  }
 ],
 "metadata": {
  "kernelspec": {
   "display_name": "OCaml default",
   "language": "OCaml",
   "name": "ocaml-jupyter"
  },
  "language_info": {
   "codemirror_mode": "text/x-ocaml",
   "file_extension": ".ml",
   "mimetype": "text/x-ocaml",
   "name": "OCaml",
   "nbconverter_exporter": null,
   "pygments_lexer": "OCaml",
   "version": "4.05.0"
  }
 },
 "nbformat": 4,
 "nbformat_minor": 5
}
