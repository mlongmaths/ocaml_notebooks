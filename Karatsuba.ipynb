{
 "cells": [
  {
   "cell_type": "markdown",
   "id": "bdb6ebaf",
   "metadata": {},
   "source": [
    "# Karatsuba\n",
    "## Algorithme naïf"
   ]
  },
  {
   "cell_type": "code",
   "execution_count": 3,
   "id": "2325c339",
   "metadata": {
    "scrolled": true
   },
   "outputs": [
    {
     "data": {
      "text/plain": [
       "val produit_naif : int array -> int array -> int array = <fun>\n"
      ]
     },
     "execution_count": 3,
     "metadata": {},
     "output_type": "execute_result"
    }
   ],
   "source": [
    "let produit_naif p1 p2 =\n",
    "  let n1 = Array.length p1 in\n",
    "  let n2 = Array.length p2 in\n",
    "  let p3 = Array.make (n1+n2-1) 0 in\n",
    "  for i = 0 to n1-1 do\n",
    "    for j = 0 to n2 -1 do\n",
    "      p3.(i+j) <- p3.(i+j) + p1.(i)*p2.(j)\n",
    "    done\n",
    "  done;\n",
    "  p3\n",
    ";;"
   ]
  },
  {
   "cell_type": "markdown",
   "id": "9524f610",
   "metadata": {},
   "source": [
    "Complexité en $O(n_1 n_2)$."
   ]
  },
  {
   "cell_type": "markdown",
   "id": "404ff33c",
   "metadata": {},
   "source": [
    "## Algorithme de Karatsuba"
   ]
  },
  {
   "cell_type": "code",
   "execution_count": 11,
   "id": "9a859fd9",
   "metadata": {},
   "outputs": [
    {
     "data": {
      "text/plain": [
       "val somme : int array -> int array -> int array = <fun>\n"
      ]
     },
     "execution_count": 11,
     "metadata": {},
     "output_type": "execute_result"
    }
   ],
   "source": [
    "let somme p1 p2 =\n",
    "  let n1 = Array.length p1 in\n",
    "  let n2 = Array.length p2 in\n",
    "  let p3 = Array.make (max n1 n2) 0 in\n",
    "  for i = 0 to n1-1 do\n",
    "    p3.(i) <- p1.(i)\n",
    "  done;\n",
    "  for i = 0 to n2-1 do\n",
    "    p3.(i) <- p3.(i) + p2.(i)\n",
    "  done;\n",
    "  p3\n",
    ";;"
   ]
  },
  {
   "cell_type": "markdown",
   "id": "38637487",
   "metadata": {},
   "source": [
    "Complexité de `somme p1 p2` en $O(n_1+n_2)$ où $n_i$ longueur de $p_i$."
   ]
  },
  {
   "cell_type": "code",
   "execution_count": 5,
   "id": "0803eeb9",
   "metadata": {},
   "outputs": [
    {
     "data": {
      "text/plain": [
       "val difference : int array -> int array -> int array = <fun>\n"
      ]
     },
     "execution_count": 5,
     "metadata": {},
     "output_type": "execute_result"
    }
   ],
   "source": [
    "let difference p1 p2 =\n",
    "  let n1 = Array.length p1 in\n",
    "  let n2 = Array.length p2 in\n",
    "  let p3 = Array.make (max n1 n2) 0 in\n",
    "  for i = 0 to n1-1 do\n",
    "    p3.(i) <- p1.(i)\n",
    "  done;\n",
    "  for i = 0 to n2-1 do\n",
    "    p3.(i) <- p3.(i) - p2.(i)\n",
    "  done;\n",
    "  p3\n",
    ";;"
   ]
  },
  {
   "cell_type": "markdown",
   "id": "400cda5e",
   "metadata": {},
   "source": [
    "Idem : complexité linéaire en la taille des tableaux."
   ]
  },
  {
   "cell_type": "code",
   "execution_count": 12,
   "id": "2c2a34c0",
   "metadata": {},
   "outputs": [
    {
     "data": {
      "text/plain": [
       "val decoupe : int array -> int array * int array = <fun>\n"
      ]
     },
     "execution_count": 12,
     "metadata": {},
     "output_type": "execute_result"
    }
   ],
   "source": [
    "let decoupe p =\n",
    "  (* Renvoie p0, p1 tq p = p0 + X^m p1 *)\n",
    "  let n = Array.length p in\n",
    "  let m = (n+1) / 2 in\n",
    "  let p0 = Array.make m 0 in\n",
    "  let p1 = Array.make (n-m) 0 in\n",
    "  for i = 0 to m-1 do\n",
    "    p0.(i) <- p.(i)\n",
    "  done;\n",
    "  for i = m to n-1 do\n",
    "    p1.(i-m) <- p.(i)\n",
    "  done;\n",
    "  p0, p1\n",
    ";;"
   ]
  },
  {
   "cell_type": "markdown",
   "id": "b99a405b",
   "metadata": {},
   "source": [
    "Complexité linéaire en la taille de p"
   ]
  },
  {
   "cell_type": "code",
   "execution_count": 7,
   "id": "ab336cef",
   "metadata": {},
   "outputs": [
    {
     "data": {
      "text/plain": [
       "val karatsuba : int array -> int array -> int array = <fun>\n"
      ]
     },
     "execution_count": 7,
     "metadata": {},
     "output_type": "execute_result"
    }
   ],
   "source": [
    "let rec karatsuba p q =\n",
    "  (* On suppose p et q de même longueur *)\n",
    "  match Array.length p with\n",
    "  | 0 -> [||]\n",
    "  | 1 -> [|p.(0)*q.(0)|]\n",
    "  | n -> \n",
    "    let p0, p1 = decoupe p in\n",
    "    let q0, q1 = decoupe q in\n",
    "    let pq = Array.make (2*n -1) 0 in\n",
    "\n",
    "    let p0q0 = karatsuba p0 q0 in\n",
    "    let p1q1 = karatsuba p1 q1 in\n",
    "    let produit_croise =\n",
    "      karatsuba (somme p0 p1) (somme q0 q1)\n",
    "    in\n",
    "    let milieu =\n",
    "      difference produit_croise (somme p0q0 p1q1)\n",
    "    in\n",
    "    let m = (n+1)/2 in\n",
    "    for i = 0 to m-1 do\n",
    "      pq.(i) <- p0q0.(i)\n",
    "    done;\n",
    "    for i = 0 to m-1 do\n",
    "      pq.(i+m) <- milieu.(i)\n",
    "    done;\n",
    "    for i = 0 to n-m-1 do\n",
    "      pq.(2*m+i) <- p1q1.(i)\n",
    "    done;\n",
    "    pq\n",
    ";;"
   ]
  },
  {
   "cell_type": "markdown",
   "id": "dabba535",
   "metadata": {},
   "source": [
    "## Étude de la complexité\n",
    "\n",
    "Soit $n$ la longueur des tableaux ; si $n \\geq 2$ alors :\n",
    "- on effectue deux découpes en temps $O(n)$\n",
    "- on crée le tableau `pq` en temps $O(n)$\n",
    "- on effectue deux **appels récursifs** sur des tableaux de taille $\\lceil n/2 \\rceil$ et $\\lfloor n/2 \\rfloor$\n",
    "- on effectue deux sommes sur des tableaux de taille $\\lceil n/2 \\rceil$, en temps $O(n)$\n",
    "- on effectue un **appel récursif** sur des tableaux de taille $\\lceil n/2 \\rceil$\n",
    "- on effectue une différence avec des tableaux de taille au plus $2\\lceil n/2 \\rceil$, en temps $O(n)$\n",
    "- on alimente le tableau `pq` en temps $O(n)$\n",
    "\n",
    "Finalement, en notant $C(n)$ le temps de calcul dans le pire des cas pour un tableau de taille $n \\geq 2$, alors\n",
    "$$C(n) \\leq 2 C \\left( \\lceil n/2 \\rceil \\right) + C \\left( \\lfloor n/2 \\rfloor \\right) + O(n)$$"
   ]
  },
  {
   "cell_type": "markdown",
   "id": "034c9e42",
   "metadata": {},
   "source": [
    "Quitte à remplacer $C(n)$ par $\\max \\{ C(k) \\mid k \\leq n \\}$, on peut supposer $C$ croissante."
   ]
  },
  {
   "cell_type": "markdown",
   "id": "b0517159",
   "metadata": {},
   "source": [
    "Soit $r \\in \\mathbb{N}$ ; si $r \\geq 1$,"
   ]
  },
  {
   "cell_type": "markdown",
   "id": "82a9b17a",
   "metadata": {},
   "source": [
    "$C(2^r) \\leq 3 C(2^{r-1}) + \\alpha 2^r$, où $\\alpha$ est une constante."
   ]
  },
  {
   "cell_type": "markdown",
   "id": "e78d04ba",
   "metadata": {},
   "source": [
    "En divisant par $3^r$,\n",
    "$\\frac{C(2^r)}{3^r} \\leq \\frac{C(2^{r-1})}{3^{r-1}} + \\alpha \\left(\\frac{2}{3}\\right)^r$"
   ]
  },
  {
   "cell_type": "markdown",
   "id": "9d03fbc5",
   "metadata": {},
   "source": [
    "$$\\sum_{r=1}^p \\frac{C(2^r)}{3^r} - \\frac{C(2^{r-1})}{3^{r-1}} \\leq \\sum_{r=1}^p \\alpha \\left(\\frac{2}{3}\\right)^r$$"
   ]
  },
  {
   "cell_type": "markdown",
   "id": "1e44ff18",
   "metadata": {},
   "source": [
    "$$\\frac{C(2^p)}{3^p} - C(1)\\leq \\alpha \\frac{2}{3}\\frac{1-(2/3)^p}{1-2/3}$$"
   ]
  },
  {
   "cell_type": "markdown",
   "id": "e064d704",
   "metadata": {},
   "source": [
    "$$\\frac{C(2^p)}{3^p} - C(1)\\leq 2\\alpha (1-(2/3)^p)\\leq 2 \\alpha = cte$$ "
   ]
  },
  {
   "cell_type": "markdown",
   "id": "cec12929",
   "metadata": {},
   "source": [
    "$$C(2^p) \\leq 3^p \\beta \\text{ où } \\beta \\text{ est une constante}$$"
   ]
  },
  {
   "cell_type": "markdown",
   "id": "aed3558e",
   "metadata": {},
   "source": [
    "Soit $n \\geq 2$, posons $p = \\lceil \\log_2 n \\rceil$, de sorte que $p-1 < \\log_2 n \\leq p$.\n",
    "\n",
    "Alors $n \\leq 2^p$, donc $C(n) \\leq \\beta 3^p = \\beta 3^{\\lceil \\log_2 n \\rceil}$.\n",
    "\n",
    "**Conclusion :** $C(n) = O(2^{\\log_2(3)\\log_2 n})$ ie  $C(n) = O(n^{\\log_2(3)})$"
   ]
  },
  {
   "cell_type": "markdown",
   "id": "e1a6cc8b",
   "metadata": {},
   "source": [
    "Algorithme naïf : complexité en $O(n^2)$, a-t-on fait mieux ?"
   ]
  },
  {
   "cell_type": "markdown",
   "id": "29619999",
   "metadata": {},
   "source": [
    "Comme 3 < 4, $\\log_2 3 < \\log_2 4$ i.e $\\log_2 3 < 2$."
   ]
  }
 ],
 "metadata": {
  "kernelspec": {
   "display_name": "OCaml default",
   "language": "OCaml",
   "name": "ocaml-jupyter"
  },
  "language_info": {
   "codemirror_mode": "text/x-ocaml",
   "file_extension": ".ml",
   "mimetype": "text/x-ocaml",
   "name": "OCaml",
   "nbconverter_exporter": null,
   "pygments_lexer": "OCaml",
   "version": "4.05.0"
  },
  "toc": {
   "base_numbering": 1,
   "nav_menu": {},
   "number_sections": false,
   "sideBar": true,
   "skip_h1_title": false,
   "title_cell": "Table of Contents",
   "title_sidebar": "Contents",
   "toc_cell": false,
   "toc_position": {},
   "toc_section_display": true,
   "toc_window_display": true
  }
 },
 "nbformat": 4,
 "nbformat_minor": 5
}
